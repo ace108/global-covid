{
 "cells": [
  {
   "cell_type": "code",
   "execution_count": 1,
   "metadata": {
    "id": "QONK22RdJhkL"
   },
   "outputs": [],
   "source": [
    "import json\n",
    "import folium\n",
    "import requests\n",
    "import mimetypes\n",
    "import http.client\n",
    "import pandas as pd\n",
    "from folium.plugins import HeatMap\n",
    "from pandas.io.json import json_normalize"
   ]
  },
  {
   "cell_type": "code",
   "execution_count": null,
   "metadata": {
    "id": "m1rD1VTuKQJX"
   },
   "outputs": [],
   "source": [
    "conn = http.client.HTTPSConnection(\"api.covid19api.com\")\n",
    "payload = \" \"\n",
    "headers={}\n",
    "try: \n",
    "    conn.request(\"GET\",\"/summary\",payload,headers)\n",
    "    res=conn.getresponse()\n",
    "    data = res.read().decode(\"UTF-8\")\n",
    "    covid1=json.loads(data)\n",
    "except: # read local if APF fail\n",
    "    with open('c:\\\\projects\\\\global-covid\\\\data\\\\summary.json') as json_file:\n",
    "        data = json.load(json_file)\n",
    "        covid1 = data"
   ]
  },
  {
   "cell_type": "code",
   "execution_count": null,
   "metadata": {
    "id": "UOfl7wW8LtfM"
   },
   "outputs": [],
   "source": [
    "# covid1=json.loads(data)"
   ]
  },
  {
   "cell_type": "code",
   "execution_count": null,
   "metadata": {
    "colab": {
     "base_uri": "https://localhost:8080/",
     "height": 596
    },
    "id": "8ijBl32sMB6r",
    "outputId": "97f50c89-7504-4ad4-a02e-25bc024b6210"
   },
   "outputs": [],
   "source": [
    "pd.json_normalize(covid1[\"Countries\"],sep=\",\");"
   ]
  },
  {
   "cell_type": "code",
   "execution_count": null,
   "metadata": {
    "colab": {
     "base_uri": "https://localhost:8080/",
     "height": 596
    },
    "id": "v07JeDcLMO5g",
    "outputId": "e7f9f7cd-dc9e-48ac-b999-196e0de8450e"
   },
   "outputs": [],
   "source": [
    "df = pd.DataFrame(covid1[\"Countries\"])\n",
    "df;"
   ]
  },
  {
   "cell_type": "code",
   "execution_count": null,
   "metadata": {
    "colab": {
     "base_uri": "https://localhost:8080/",
     "height": 423
    },
    "id": "pKjI23ruMUvX",
    "outputId": "162bd039-2d91-4cec-8cae-be23be7ad684"
   },
   "outputs": [],
   "source": [
    "covid2 = df.drop(columns=[\"CountryCode\",\"Slug\",\"Date\",\"Premium\"],axis=1)\n",
    "covid2;\n"
   ]
  },
  {
   "cell_type": "code",
   "execution_count": null,
   "metadata": {
    "colab": {
     "base_uri": "https://localhost:8080/",
     "height": 711
    },
    "id": "pMGTSP7EMagz",
    "outputId": "76b24d59-b336-40a6-9ce5-16d02db1108f",
    "scrolled": true
   },
   "outputs": [],
   "source": [
    "m=folium.Map(tiles=\"Stamen Terrain\",min_zoom=1.5)\n",
    "m;"
   ]
  },
  {
   "cell_type": "code",
   "execution_count": null,
   "metadata": {
    "id": "Q4lN3z_JMtuN"
   },
   "outputs": [],
   "source": [
    "url = \"https://raw.githubusercontent.com/python-visualization/folium/master/examples/data\"\n",
    "country_shapes=f\"{url}/world-countries.json\""
   ]
  },
  {
   "cell_type": "code",
   "execution_count": null,
   "metadata": {
    "colab": {
     "base_uri": "https://localhost:8080/",
     "height": 711
    },
    "id": "c3muLcqUM-_o",
    "outputId": "6fcad21a-e23a-4580-a1f1-d17e13591cc7"
   },
   "outputs": [],
   "source": [
    "folium.Choropleth(\n",
    "    geo_data=country_shapes,\n",
    "    min_zoom=2,\n",
    "    name=\"Covid-19\",\n",
    "    data=covid2,\n",
    "    columns=[\"Country\",\"TotalConfirmed\"],\n",
    "    key_on=\"feature.properties.name\",\n",
    "    fill_color=\"OrRd\",\n",
    "    nan_fill_color=\"black\",\n",
    "    legend_name=\"Total Confirmed Covid Cases\",\n",
    ").add_to(m)\n",
    "m;"
   ]
  },
  {
   "cell_type": "code",
   "execution_count": null,
   "metadata": {
    "id": "mDhXEQxOM_cj"
   },
   "outputs": [],
   "source": [
    "covid2.update(covid2[\"TotalConfirmed\"].map(\"TotalConfirmed:{}\".format))\n",
    "covid2.update(covid2[\"TotalRecovered\"].map(\"TotalRecovered:{}\".format))"
   ]
  },
  {
   "cell_type": "code",
   "execution_count": null,
   "metadata": {
    "colab": {
     "base_uri": "https://localhost:8080/",
     "height": 423
    },
    "id": "3s8U2ODAPN9m",
    "outputId": "79d13ed5-9a4f-4623-f77f-afc2fa6d2531"
   },
   "outputs": [],
   "source": [
    "coordinates=pd.read_csv(\"https://raw.githubusercontent.com/VinitaSilaparasetty/covid-map/master/country-coordinates-world.csv\")\n",
    "coordinates;"
   ]
  },
  {
   "cell_type": "code",
   "execution_count": null,
   "metadata": {
    "id": "JrVW9tKXPzxQ"
   },
   "outputs": [],
   "source": [
    "covid_final=pd.merge(covid2,coordinates,on=\"Country\")"
   ]
  },
  {
   "cell_type": "code",
   "execution_count": null,
   "metadata": {
    "id": "7YWBcRU-QQkb"
   },
   "outputs": [],
   "source": [
    "def plotDot(point):\n",
    "  folium.CircleMarker(location=[point.latitude,point.longitude],\n",
    "                      radius=5,\n",
    "                      weight=2,\n",
    "                      tooltip=\"click me!\",\n",
    "                      popup = [point.Country,point.TotalConfirmed,point.TotalRecovered],\n",
    "                      fill_color=\"#000000\").add_to(m)\n"
   ]
  },
  {
   "cell_type": "markdown",
   "metadata": {},
   "source": [
    "# Total Confirmed Covid Cases"
   ]
  },
  {
   "cell_type": "code",
   "execution_count": null,
   "metadata": {
    "colab": {
     "base_uri": "https://localhost:8080/",
     "height": 711
    },
    "id": "6TIFTUlDQXyS",
    "outputId": "10caece0-8d27-4ad1-d36e-fc876c5cc393",
    "scrolled": true
   },
   "outputs": [],
   "source": [
    "covid_final.apply(plotDot,axis=1)\n",
    "m.fit_bounds(m.get_bounds())\n",
    "m"
   ]
  },
  {
   "cell_type": "code",
   "execution_count": null,
   "metadata": {
    "colab": {
     "base_uri": "https://localhost:8080/",
     "height": 711
    },
    "id": "RSEbhroMRnSd",
    "outputId": "986c7a09-b8fd-4145-a2e2-76c6757e3e25"
   },
   "outputs": [],
   "source": [
    "m1=folium.Map(tiles=\"StamenToner\",min_zoom=2)\n",
    "m1;"
   ]
  },
  {
   "cell_type": "code",
   "execution_count": null,
   "metadata": {
    "colab": {
     "base_uri": "https://localhost:8080/",
     "height": 711
    },
    "id": "q3g7rfavRwwT",
    "outputId": "2214c2b3-b1a9-48ee-c78b-ef259523fbe6"
   },
   "outputs": [],
   "source": [
    "deaths = covid_final[\"TotalDeaths\"].astype(float)\n",
    "lat = covid_final[\"latitude\"].astype(float)\n",
    "lon = covid_final['longitude'].astype(float)\n",
    "m1.add_child(HeatMap(zip(lat,lon,deaths),radius=0));"
   ]
  },
  {
   "cell_type": "code",
   "execution_count": null,
   "metadata": {
    "id": "XdDe7fg7SVO-"
   },
   "outputs": [],
   "source": [
    "def plotDot(point):\n",
    "  folium.CircleMarker(location=[point.latitude,point.longitude],\n",
    "                      radius=5,\n",
    "                      weight=2,\n",
    "                      tooltip = \"click me!\",\n",
    "                      popup=[point.Country,point.TotalDeaths],\n",
    "                      fill_color=\"#000000\").add_to(m1)\n"
   ]
  },
  {
   "cell_type": "markdown",
   "metadata": {},
   "source": [
    "# Total Covid Deaths"
   ]
  },
  {
   "cell_type": "code",
   "execution_count": null,
   "metadata": {
    "colab": {
     "base_uri": "https://localhost:8080/"
    },
    "id": "kLJguWwxSZAI",
    "outputId": "f7afd229-f8eb-4c38-f2c0-82a60f83bdb8"
   },
   "outputs": [],
   "source": [
    "covid_final.apply(plotDot,axis=1)\n",
    "m1.fit_bounds(m1.get_bounds())\n",
    "m1"
   ]
  },
  {
   "cell_type": "markdown",
   "metadata": {},
   "source": [
    "Source of data: https://api.covid19api.com/summary"
   ]
  }
 ],
 "metadata": {
  "colab": {
   "name": "Python World Map Geovisualization Dashboard using Covid Data.ipynb",
   "provenance": []
  },
  "kernelspec": {
   "display_name": "Python 3",
   "language": "python",
   "name": "python3"
  },
  "language_info": {
   "codemirror_mode": {
    "name": "ipython",
    "version": 3
   },
   "file_extension": ".py",
   "mimetype": "text/x-python",
   "name": "python",
   "nbconvert_exporter": "python",
   "pygments_lexer": "ipython3",
   "version": "3.7.9"
  }
 },
 "nbformat": 4,
 "nbformat_minor": 1
}
