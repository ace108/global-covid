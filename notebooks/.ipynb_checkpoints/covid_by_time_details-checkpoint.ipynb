{
 "cells": [
  {
   "cell_type": "markdown",
   "metadata": {},
   "source": [
    "# COVID19 Data Visualization using Python"
   ]
  },
  {
   "cell_type": "markdown",
   "metadata": {},
   "source": [
    "Ref: \n",
    "* Dataset: https://raw.githubusercontent.com/datasets/covid-19/master/data/countries-aggregated.csv\n",
    "Data Source: https://github.com/datasets/covid-19"
   ]
  },
  {
   "cell_type": "markdown",
   "metadata": {},
   "source": [
    "## Importing modules\n",
    "# Task 1"
   ]
  },
  {
   "cell_type": "code",
   "execution_count": 1,
   "metadata": {},
   "outputs": [
    {
     "name": "stdout",
     "output_type": "stream",
     "text": [
      "modules are imported\n"
     ]
    }
   ],
   "source": [
    "import pandas as pd\n",
    "import numpy as np\n",
    "import plotly.express as px ### for plotting the data on world map\n",
    "import matplotlib.pyplot as plt\n",
    "# import seaborn as sns\n",
    "print('modules are imported');"
   ]
  },
  {
   "cell_type": "markdown",
   "metadata": {},
   "source": [
    "# Task 1.1: Loading the Dataset"
   ]
  },
  {
   "cell_type": "code",
   "execution_count": 2,
   "metadata": {},
   "outputs": [],
   "source": [
    "dataset_url = 'https://raw.githubusercontent.com/datasets/covid-19/master/data/countries-aggregated.csv'\n",
    "df = pd.read_csv(dataset_url)"
   ]
  },
  {
   "cell_type": "markdown",
   "metadata": {},
   "source": [
    "# Task 1.2\n",
    "## Let's check the dataframe"
   ]
  },
  {
   "cell_type": "code",
   "execution_count": 3,
   "metadata": {},
   "outputs": [],
   "source": [
    "df.head();"
   ]
  },
  {
   "cell_type": "code",
   "execution_count": 4,
   "metadata": {},
   "outputs": [],
   "source": [
    "df.tail();"
   ]
  },
  {
   "cell_type": "markdown",
   "metadata": {},
   "source": [
    "## Let's check the shape of the dataframe"
   ]
  },
  {
   "cell_type": "code",
   "execution_count": 5,
   "metadata": {},
   "outputs": [],
   "source": [
    "# df.info()\n",
    "df.shape;"
   ]
  },
  {
   "cell_type": "markdown",
   "metadata": {},
   "source": [
    "# Task 2.1:\n",
    "## Let's do some preprocessing"
   ]
  },
  {
   "cell_type": "code",
   "execution_count": 6,
   "metadata": {},
   "outputs": [],
   "source": [
    "df = df[df.Confirmed > 0]"
   ]
  },
  {
   "cell_type": "code",
   "execution_count": 7,
   "metadata": {},
   "outputs": [],
   "source": [
    "df.head();\n"
   ]
  },
  {
   "cell_type": "markdown",
   "metadata": {},
   "source": [
    "## Let's see data related to a country for example Italy"
   ]
  },
  {
   "cell_type": "code",
   "execution_count": 8,
   "metadata": {},
   "outputs": [
    {
     "data": {
      "text/html": [
       "<div>\n",
       "<style scoped>\n",
       "    .dataframe tbody tr th:only-of-type {\n",
       "        vertical-align: middle;\n",
       "    }\n",
       "\n",
       "    .dataframe tbody tr th {\n",
       "        vertical-align: top;\n",
       "    }\n",
       "\n",
       "    .dataframe thead th {\n",
       "        text-align: right;\n",
       "    }\n",
       "</style>\n",
       "<table border=\"1\" class=\"dataframe\">\n",
       "  <thead>\n",
       "    <tr style=\"text-align: right;\">\n",
       "      <th></th>\n",
       "      <th>Date</th>\n",
       "      <th>Country</th>\n",
       "      <th>Confirmed</th>\n",
       "      <th>Recovered</th>\n",
       "      <th>Deaths</th>\n",
       "    </tr>\n",
       "  </thead>\n",
       "  <tbody>\n",
       "    <tr>\n",
       "      <th>48969</th>\n",
       "      <td>2020-01-31</td>\n",
       "      <td>Italy</td>\n",
       "      <td>2</td>\n",
       "      <td>0</td>\n",
       "      <td>0</td>\n",
       "    </tr>\n",
       "    <tr>\n",
       "      <th>48970</th>\n",
       "      <td>2020-02-01</td>\n",
       "      <td>Italy</td>\n",
       "      <td>2</td>\n",
       "      <td>0</td>\n",
       "      <td>0</td>\n",
       "    </tr>\n",
       "    <tr>\n",
       "      <th>48971</th>\n",
       "      <td>2020-02-02</td>\n",
       "      <td>Italy</td>\n",
       "      <td>2</td>\n",
       "      <td>0</td>\n",
       "      <td>0</td>\n",
       "    </tr>\n",
       "    <tr>\n",
       "      <th>48972</th>\n",
       "      <td>2020-02-03</td>\n",
       "      <td>Italy</td>\n",
       "      <td>2</td>\n",
       "      <td>0</td>\n",
       "      <td>0</td>\n",
       "    </tr>\n",
       "    <tr>\n",
       "      <th>48973</th>\n",
       "      <td>2020-02-04</td>\n",
       "      <td>Italy</td>\n",
       "      <td>2</td>\n",
       "      <td>0</td>\n",
       "      <td>0</td>\n",
       "    </tr>\n",
       "    <tr>\n",
       "      <th>...</th>\n",
       "      <td>...</td>\n",
       "      <td>...</td>\n",
       "      <td>...</td>\n",
       "      <td>...</td>\n",
       "      <td>...</td>\n",
       "    </tr>\n",
       "    <tr>\n",
       "      <th>49531</th>\n",
       "      <td>2021-08-15</td>\n",
       "      <td>Italy</td>\n",
       "      <td>4440669</td>\n",
       "      <td>0</td>\n",
       "      <td>128432</td>\n",
       "    </tr>\n",
       "    <tr>\n",
       "      <th>49532</th>\n",
       "      <td>2021-08-16</td>\n",
       "      <td>Italy</td>\n",
       "      <td>4444338</td>\n",
       "      <td>0</td>\n",
       "      <td>128456</td>\n",
       "    </tr>\n",
       "    <tr>\n",
       "      <th>49533</th>\n",
       "      <td>2021-08-17</td>\n",
       "      <td>Italy</td>\n",
       "      <td>4449606</td>\n",
       "      <td>0</td>\n",
       "      <td>128510</td>\n",
       "    </tr>\n",
       "    <tr>\n",
       "      <th>49534</th>\n",
       "      <td>2021-08-18</td>\n",
       "      <td>Italy</td>\n",
       "      <td>4456765</td>\n",
       "      <td>0</td>\n",
       "      <td>128579</td>\n",
       "    </tr>\n",
       "    <tr>\n",
       "      <th>49535</th>\n",
       "      <td>2021-08-19</td>\n",
       "      <td>Italy</td>\n",
       "      <td>4464005</td>\n",
       "      <td>0</td>\n",
       "      <td>128634</td>\n",
       "    </tr>\n",
       "  </tbody>\n",
       "</table>\n",
       "<p>567 rows × 5 columns</p>\n",
       "</div>"
      ],
      "text/plain": [
       "             Date Country  Confirmed  Recovered  Deaths\n",
       "48969  2020-01-31   Italy          2          0       0\n",
       "48970  2020-02-01   Italy          2          0       0\n",
       "48971  2020-02-02   Italy          2          0       0\n",
       "48972  2020-02-03   Italy          2          0       0\n",
       "48973  2020-02-04   Italy          2          0       0\n",
       "...           ...     ...        ...        ...     ...\n",
       "49531  2021-08-15   Italy    4440669          0  128432\n",
       "49532  2021-08-16   Italy    4444338          0  128456\n",
       "49533  2021-08-17   Italy    4449606          0  128510\n",
       "49534  2021-08-18   Italy    4456765          0  128579\n",
       "49535  2021-08-19   Italy    4464005          0  128634\n",
       "\n",
       "[567 rows x 5 columns]"
      ]
     },
     "execution_count": 8,
     "metadata": {},
     "output_type": "execute_result"
    }
   ],
   "source": [
    "df[df.Country == 'Italy']"
   ]
  },
  {
   "cell_type": "markdown",
   "metadata": {},
   "source": [
    "## Let's see Global spread of Covid-19"
   ]
  },
  {
   "cell_type": "markdown",
   "metadata": {},
   "source": [
    "# Ref color_continuos_scale: https://plotly.com/python/builtin-colorscales/\n",
    "<code>aggrnyl     agsunset    blackbody   bluered     blues       blugrn      bluyl       brwnyl \n",
    "bugn        bupu        burg        burgyl      cividis     darkmint    electric    emrld\n",
    "gnbu        greens      greys       hot         inferno     jet         magenta     magma\n",
    "mint        orrd        oranges     oryel       peach       pinkyl      plasma      plotly3\n",
    "pubu        pubugn      purd        purp        purples     purpor      rainbow     rdbu\n",
    "rdpu        redor       reds        sunset      sunsetdark  teal        tealgrn     viridis\n",
    "ylgn        ylgnbu      ylorbr      ylorrd      algae       amp         deep        dense\n",
    "gray        haline      ice         matter      solar       speed       tempo       thermal\n",
    "turbid      armyrose    brbg        earth       fall        geyser      prgn        piyg\n",
    "picnic      portland    puor        rdgy        rdylbu      rdylgn      spectral    tealrose\n",
    "temps       tropic      balance     curl        delta       edge        hsv         icefire\n",
    "phase       twilight    mrybm       mygbm\n",
    "</code>"
   ]
  },
  {
   "cell_type": "code",
   "execution_count": null,
   "metadata": {},
   "outputs": [],
   "source": [
    "'''\n",
    "fig = px.choropleth(df, locations='Country', locationmode='country names', color='Confirmed', animation_frame='Date')\n",
    "fig.update_layout(title_text = 'Global Spread of COVID-19')\n",
    "fig.show()\n",
    "'''\n",
    "### Above seem to give problem with the date animation\n",
    "### Found this instead from:\n",
    "### https://towardsdatascience.com/visualizing-the-coronavirus-pandemic-with-choropleth-maps-7f30fccaecf5\n",
    "df_countrydate = df[df['Confirmed']>0]\n",
    "df_countrydate = df_countrydate.groupby(['Date','Country']).sum().reset_index()\n",
    "# Creating the visualization\n",
    "fig = px.choropleth(df_countrydate, \n",
    "                    locations=\"Country\", \n",
    "                    locationmode = \"country names\",\n",
    "                    color=\"Confirmed\", \n",
    "                    color_continuous_scale=px.colors.diverging.Picnic,  \n",
    "                    hover_name=\"Country\", \n",
    "                    animation_frame=\"Date\"\n",
    "                   )\n",
    "fig.update_layout(\n",
    "    title_text = 'Global Spread of COVID-19',\n",
    "    title_x = 0.5,\n",
    "    geo=dict(\n",
    "        showframe = False,\n",
    "        showcoastlines = False,\n",
    "    ))\n",
    "    \n",
    "fig.show()\n"
   ]
  },
  {
   "cell_type": "markdown",
   "metadata": {},
   "source": [
    "# Task 2.2: Exercise\n",
    "## Let's see Global deaths of Covid19"
   ]
  },
  {
   "cell_type": "code",
   "execution_count": null,
   "metadata": {},
   "outputs": [],
   "source": [
    "'''\n",
    "fig = px.choropleth(df, locations='Country', locationmode='country names', color='Deaths', animation_frame='Date')\n",
    "fig.update_layout(title_text = 'Global Death of COVID-19')\n",
    "fig.show()\n",
    "'''\n",
    "### Above seem to give problem with the date animation\n",
    "### Found this instead from:\n",
    "### https://towardsdatascience.com/visualizing-the-coronavirus-pandemic-with-choropleth-maps-7f30fccaecf5\n",
    "# Creating the visualization\n",
    "fig = px.choropleth(df_countrydate, \n",
    "                    locations=\"Country\", \n",
    "                    locationmode = \"country names\",\n",
    "                    color=\"Deaths\", \n",
    "                    color_continuous_scale=px.colors.diverging.Spectral,                   \n",
    "                    hover_name=\"Country\", \n",
    "                    animation_frame=\"Date\"\n",
    "                   )\n",
    "fig.update_layout(\n",
    "    title_text = 'Global Deaths of COVID-19',\n",
    "    title_x = 0.5,\n",
    "    geo=dict(\n",
    "        showframe = False,\n",
    "        showcoastlines = False,\n",
    "    ))\n",
    "    \n",
    "fig.show()\n"
   ]
  },
  {
   "cell_type": "markdown",
   "metadata": {},
   "source": [
    "# Task 3.1:\n",
    "## Let's Visualiize how intensive the Covid19 Transmission has been in each of the country\n",
    "### Let's start with an example:"
   ]
  },
  {
   "cell_type": "code",
   "execution_count": null,
   "metadata": {},
   "outputs": [],
   "source": [
    "df_china = df[df.Country == 'China']\n",
    "df_china.head()"
   ]
  },
  {
   "cell_type": "code",
   "execution_count": null,
   "metadata": {},
   "outputs": [],
   "source": [
    "df_china = df_china[['Date', 'Confirmed']]"
   ]
  },
  {
   "cell_type": "code",
   "execution_count": null,
   "metadata": {},
   "outputs": [],
   "source": [
    "df_china.head()"
   ]
  },
  {
   "cell_type": "markdown",
   "metadata": {},
   "source": [
    "Calculating the first derivation of confirmed column"
   ]
  },
  {
   "cell_type": "code",
   "execution_count": null,
   "metadata": {},
   "outputs": [],
   "source": [
    "df_china['Infection Rate'] = df_china['Confirmed'].diff()"
   ]
  },
  {
   "cell_type": "code",
   "execution_count": null,
   "metadata": {},
   "outputs": [],
   "source": [
    "df_china.head()"
   ]
  },
  {
   "cell_type": "code",
   "execution_count": null,
   "metadata": {},
   "outputs": [],
   "source": [
    "px.line(df_china, x='Date', y=['Confirmed', 'Infection Rate'])"
   ]
  },
  {
   "cell_type": "code",
   "execution_count": null,
   "metadata": {},
   "outputs": [],
   "source": [
    "df_china['Infection Rate'].max()"
   ]
  },
  {
   "cell_type": "markdown",
   "metadata": {},
   "source": [
    "# Task 3.2:\n",
    "## Let's Calculate Maximum infection rate for all of the countries."
   ]
  },
  {
   "cell_type": "code",
   "execution_count": null,
   "metadata": {},
   "outputs": [],
   "source": [
    "df.head()"
   ]
  },
  {
   "cell_type": "code",
   "execution_count": null,
   "metadata": {},
   "outputs": [],
   "source": [
    "countries = list(df['Country'].unique())\n",
    "# countries\n",
    "max_infection_rates = []\n",
    "for c in countries:\n",
    "    MIR = df[df.Country == c].Confirmed.diff().max()\n",
    "    max_infection_rates.append(MIR)\n",
    "# print(max_infection_rates) "
   ]
  },
  {
   "cell_type": "markdown",
   "metadata": {},
   "source": [
    "# Task 3.3:\n",
    "## Let's create a new Dataframe"
   ]
  },
  {
   "cell_type": "code",
   "execution_count": null,
   "metadata": {},
   "outputs": [],
   "source": [
    "df_MIR = pd.DataFrame()\n",
    "df_MIR['Country'] = countries\n",
    "df_MIR['Max Infection Rate'] = max_infection_rates\n",
    "df_MIR.head()"
   ]
  },
  {
   "cell_type": "markdown",
   "metadata": {},
   "source": [
    "## Let's plot the barchart : maximum infection rate of each country"
   ]
  },
  {
   "cell_type": "code",
   "execution_count": null,
   "metadata": {},
   "outputs": [],
   "source": [
    "px.bar(df_MIR, x='Country', y='Max Infection Rate', color='Country',\n",
    "title='Global Maximum Infection rate', log_y=True)"
   ]
  },
  {
   "cell_type": "markdown",
   "metadata": {},
   "source": [
    "# Task 4: Let's See how National Lockdowns Impacts Covid19 transmission in Italy\n",
    "## COVID19 pandemic lockdown in Italy\n",
    "On 9 March 2020, the government of Italy under Prime Minister Gluseppe Conte imposed a national quarantine, restricting the movement of the populastion except for necessity, work, and health cicumstances, in response to the growing pandemic of COVID-19 in the country.\n",
    "\n",
    "Source: https://en.wikipedia.org/wiki/COVID-19_pandemic_lockdown_in_Italy"
   ]
  },
  {
   "cell_type": "code",
   "execution_count": null,
   "metadata": {},
   "outputs": [],
   "source": [
    "# italy_lockdown_start_date = '09-03-2020'\n",
    "# italy_lockdown_a_month_later = '09-04-2020'\n",
    "italy_lockdown_start_date = '2020-03-09'\n",
    "italy_lockdown_a_month_later = '2020-04-09'\n"
   ]
  },
  {
   "cell_type": "code",
   "execution_count": null,
   "metadata": {},
   "outputs": [],
   "source": [
    "df.head()"
   ]
  },
  {
   "cell_type": "markdown",
   "metadata": {},
   "source": [
    "Let's get data related to Italy"
   ]
  },
  {
   "cell_type": "code",
   "execution_count": null,
   "metadata": {},
   "outputs": [],
   "source": [
    "df_italy = df[df.Country == 'Italy']"
   ]
  },
  {
   "cell_type": "markdown",
   "metadata": {},
   "source": [
    "Let's check the dataframe"
   ]
  },
  {
   "cell_type": "code",
   "execution_count": null,
   "metadata": {},
   "outputs": [],
   "source": [
    "df_italy.head()"
   ]
  },
  {
   "cell_type": "markdown",
   "metadata": {},
   "source": [
    "Let's calculate the infection rate in Italy"
   ]
  },
  {
   "cell_type": "code",
   "execution_count": null,
   "metadata": {},
   "outputs": [],
   "source": [
    "df_italy['Infection Rate'] = df_italy.Confirmed.diff()\n",
    "df_italy.head()"
   ]
  },
  {
   "cell_type": "markdown",
   "metadata": {},
   "source": [
    "OK! Now let's do the visualization"
   ]
  },
  {
   "cell_type": "code",
   "execution_count": null,
   "metadata": {},
   "outputs": [],
   "source": [
    "print(df_italy['Infection Rate'].max())"
   ]
  },
  {
   "cell_type": "code",
   "execution_count": null,
   "metadata": {},
   "outputs": [],
   "source": [
    "fig = px.line(df_italy, \n",
    "              x='Date', \n",
    "              y='Infection Rate', \n",
    "              title='Before and After Lockdown in Italy')\n",
    "fig.add_shape(\n",
    "    dict(\n",
    "        type = \"line\",         \n",
    "        x0=italy_lockdown_start_date,\n",
    "        y0=0,\n",
    "        x1=italy_lockdown_start_date,\n",
    "        y1=df_italy['Infection Rate'].max(),\n",
    "        line = dict(color='red', width=2)\n",
    "    )\n",
    ")\n",
    "\n",
    "fig.add_annotation(\n",
    "    dict(\n",
    "        x=italy_lockdown_start_date,\n",
    "        y=df_italy['Infection Rate'].max(),\n",
    "        text='start date of the lockdown'\n",
    "    )\n",
    ")\n",
    "\n",
    "\n",
    "fig.add_shape(\n",
    "    dict(\n",
    "        type = \"line\",         \n",
    "        x0=italy_lockdown_a_month_later,\n",
    "        y0=0,\n",
    "        x1=italy_lockdown_a_month_later,\n",
    "        y1=df_italy['Infection Rate'].max(),\n",
    "        line = dict(color='orange', width=2)\n",
    "    )\n",
    ")\n",
    "\n",
    "fig.add_annotation(\n",
    "    dict(\n",
    "        x=italy_lockdown_a_month_later,\n",
    "        y=0,\n",
    "        text='a month later'\n",
    "    )\n",
    ")\n",
    "\n",
    "fig.show()"
   ]
  },
  {
   "cell_type": "markdown",
   "metadata": {},
   "source": [
    "# Task 5: Let's see how National Lockdowns Impacts Covid19 Deatchs rate in Italy"
   ]
  },
  {
   "cell_type": "code",
   "execution_count": null,
   "metadata": {},
   "outputs": [],
   "source": [
    "df_italy.head()"
   ]
  },
  {
   "cell_type": "markdown",
   "metadata": {},
   "source": [
    "Let's calculate the deaths rate"
   ]
  },
  {
   "cell_type": "code",
   "execution_count": null,
   "metadata": {},
   "outputs": [],
   "source": [
    "df_italy['Deaths Rate'] = df_italy.Deaths.diff()"
   ]
  },
  {
   "cell_type": "markdown",
   "metadata": {},
   "source": [
    "Let's check the dataframe again"
   ]
  },
  {
   "cell_type": "code",
   "execution_count": null,
   "metadata": {},
   "outputs": [],
   "source": [
    "df_italy.head()"
   ]
  },
  {
   "cell_type": "markdown",
   "metadata": {},
   "source": [
    "now let's polt a line chart to compare COVID19 national lockdowns impacts on spread of the virus and deaths rate"
   ]
  },
  {
   "cell_type": "code",
   "execution_count": null,
   "metadata": {},
   "outputs": [],
   "source": [
    "fig = px.line(df_italy, x='Date', y=['Infection Rate','Deaths Rate'])\n",
    "fig.show()"
   ]
  },
  {
   "cell_type": "markdown",
   "metadata": {},
   "source": [
    "let's normalize the columns"
   ]
  },
  {
   "cell_type": "code",
   "execution_count": null,
   "metadata": {},
   "outputs": [],
   "source": [
    "df_italy['Infection Rate'] = df_italy['Infection Rate']/df_italy['Infection Rate'].max()\n",
    "df_italy['Deaths Rate'] = df_italy['Deaths Rate']/df_italy['Deaths Rate'].max()"
   ]
  },
  {
   "cell_type": "markdown",
   "metadata": {},
   "source": [
    "let's plot the line chart again"
   ]
  },
  {
   "cell_type": "code",
   "execution_count": null,
   "metadata": {},
   "outputs": [],
   "source": [
    "fig = px.line(df_italy, x='Date', y=['Infection Rate','Deaths Rate'])\n",
    "fig.add_shape(\n",
    "    dict(\n",
    "        type = \"line\",         \n",
    "        x0=italy_lockdown_start_date,\n",
    "        y0=0,\n",
    "        x1=italy_lockdown_start_date,\n",
    "        y1=df_italy['Infection Rate'].max(),\n",
    "        line = dict(color='red', width=2)\n",
    "    )\n",
    ")\n",
    "\n",
    "fig.add_annotation(\n",
    "    dict(\n",
    "        x=italy_lockdown_start_date,\n",
    "        y=df_italy['Infection Rate'].max(),\n",
    "        text='start date of the lockdown'\n",
    "    )\n",
    ")\n",
    "\n",
    "\n",
    "fig.add_shape(\n",
    "    dict(\n",
    "        type = \"line\",         \n",
    "        x0=italy_lockdown_a_month_later,\n",
    "        y0=0,\n",
    "        x1=italy_lockdown_a_month_later,\n",
    "        y1=df_italy['Infection Rate'].max(),\n",
    "        line = dict(color='orange', width=2)\n",
    "    )\n",
    ")\n",
    "\n",
    "fig.add_annotation(\n",
    "    dict(\n",
    "        x=italy_lockdown_a_month_later,\n",
    "        y=0,\n",
    "        text='a month later'\n",
    "    )\n",
    ")\n",
    "fig.show()"
   ]
  },
  {
   "cell_type": "markdown",
   "metadata": {},
   "source": [
    "# COVID19 pandemic lockdown Germany\n",
    "Lockdown was started in Freibug, Baden-Wurttemberg and Bavaria on 20 March 2020. Three days later, it was expanded to the whole of Germany"
   ]
  },
  {
   "cell_type": "code",
   "execution_count": null,
   "metadata": {},
   "outputs": [],
   "source": [
    "Germany_lockdown_start_date = '2020-03-23'\n",
    "Germany_lockdown_a_month_later = '2020-04-23'"
   ]
  },
  {
   "cell_type": "markdown",
   "metadata": {},
   "source": [
    "let's select the data related to Germany"
   ]
  },
  {
   "cell_type": "code",
   "execution_count": null,
   "metadata": {},
   "outputs": [],
   "source": [
    "df_germany = df[df.Country == 'Germany']"
   ]
  },
  {
   "cell_type": "markdown",
   "metadata": {},
   "source": [
    "let's check the dataframe"
   ]
  },
  {
   "cell_type": "code",
   "execution_count": null,
   "metadata": {},
   "outputs": [],
   "source": [
    "df_germany.head()"
   ]
  },
  {
   "cell_type": "markdown",
   "metadata": {},
   "source": [
    "let's calculate the infection rate and deaths rate in Germany"
   ]
  },
  {
   "cell_type": "code",
   "execution_count": null,
   "metadata": {},
   "outputs": [],
   "source": [
    "df_germany['Infection Rate'] = df_germany.Confirmed.diff()\n",
    "df_germany['Deaths Rate'] = df_germany.Deaths.diff()"
   ]
  },
  {
   "cell_type": "markdown",
   "metadata": {},
   "source": [
    "let's check the dataframe"
   ]
  },
  {
   "cell_type": "code",
   "execution_count": null,
   "metadata": {},
   "outputs": [],
   "source": [
    "df_germany.head()"
   ]
  },
  {
   "cell_type": "markdown",
   "metadata": {},
   "source": [
    "let's do some scaling and plot the line chart"
   ]
  },
  {
   "cell_type": "code",
   "execution_count": null,
   "metadata": {},
   "outputs": [],
   "source": [
    "df_germany['Infection Rate'] = df_germany['Infection Rate']/df_germany['Infection Rate'].max()\n",
    "df_germany['Deaths Rate'] = df_germany['Deaths Rate']/df_germany['Deaths Rate'].max()"
   ]
  },
  {
   "cell_type": "code",
   "execution_count": null,
   "metadata": {
    "scrolled": false
   },
   "outputs": [],
   "source": [
    "fig = px.line(df_germany, x='Date', y=['Infection Rate','Deaths Rate'])\n",
    "fig.add_shape(\n",
    "    dict(\n",
    "        type = \"line\",         \n",
    "        x0=Germany_lockdown_start_date,\n",
    "        y0=0,\n",
    "        x1=Germany_lockdown_start_date,\n",
    "        y1=df_germany['Infection Rate'].max(),\n",
    "        line = dict(color='red', width=2)\n",
    "    )\n",
    ")\n",
    "\n",
    "fig.add_annotation(\n",
    "    dict(\n",
    "        x=Germany_lockdown_start_date,\n",
    "        y=df_germany['Infection Rate'].max(),\n",
    "        text='start date of the lockdown'\n",
    "    )\n",
    ")\n",
    "\n",
    "\n",
    "fig.add_shape(\n",
    "    dict(\n",
    "        type = \"line\",         \n",
    "        x0=Germany_lockdown_a_month_later,\n",
    "        y0=0,\n",
    "        x1=Germany_lockdown_a_month_later,\n",
    "        y1=df_germany['Infection Rate'].max(),\n",
    "        line = dict(color='orange', width=2)\n",
    "    )\n",
    ")\n",
    "\n",
    "fig.add_annotation(\n",
    "    dict(\n",
    "        x=Germany_lockdown_a_month_later,\n",
    "        y=0,\n",
    "        text='a month later'\n",
    "    )\n",
    ")\n",
    "fig.show()"
   ]
  }
 ],
 "metadata": {
  "kernelspec": {
   "display_name": "Python 3",
   "language": "python",
   "name": "python3"
  },
  "language_info": {
   "codemirror_mode": {
    "name": "ipython",
    "version": 3
   },
   "file_extension": ".py",
   "mimetype": "text/x-python",
   "name": "python",
   "nbconvert_exporter": "python",
   "pygments_lexer": "ipython3",
   "version": "3.7.9"
  }
 },
 "nbformat": 4,
 "nbformat_minor": 4
}
